{
 "cells": [
  {
   "cell_type": "code",
   "execution_count": 45,
   "metadata": {},
   "outputs": [],
   "source": [
    "from collections import deque\n",
    "import heapq\n",
    "import random\n"
   ]
  },
  {
   "cell_type": "markdown",
   "metadata": {},
   "source": [
    "# Busqueda no informada"
   ]
  },
  {
   "cell_type": "code",
   "execution_count": 46,
   "metadata": {},
   "outputs": [],
   "source": [
    "inicio = \"Fargo\"\n",
    "objetivo = \"Wausau\"\n",
    "\n",
    "# Grafo de las conexiones y distancias de las ciudades para la busqueda no informada\n",
    "distancias = {\n",
    "    'International Falls': {'Duluth': 150, 'Bemidji': 120, 'Grand Forks': 100},\n",
    "    'Bemidji': {'International Falls': 120, 'Duluth': 100, 'Grand Forks': 130, 'St. Cloud': 90},\n",
    "    'Grand Forks': {'Bemidji': 130, 'Fargo': 140,'International Falls':100},\n",
    "    'Fargo': {'Grand Forks': 140, 'St. Cloud': 250, 'Sioux Falls':125},\n",
    "    'Duluth': {'International Falls': 150, 'Bemidji': 100, 'Minneapolis': 220, 'St. Cloud':100},\n",
    "    'St. Cloud': {'Fargo': 250, 'Minneapolis': 100, 'Rochester': 200},\n",
    "    'Minneapolis': {'Duluth': 220, 'St. Cloud': 100, 'Rochester': 150, 'Wausau': 280,'LaCrosse':50},\n",
    "    'Rochester': {'Sioux Falls': 200, 'Minneapolis': 150, 'LaCrosse': 130, 'Dubuque':60},\n",
    "    'Wausau': {'Minneapolis': 280, 'Green Bay': 110, 'LaCrosse': 160},\n",
    "    'LaCrosse': {'Rochester': 130, 'Green Bay': 135, 'Madison': 140, 'Minneapolis':50,'Dubuque':45},\n",
    "    'Green Bay': {'Wausau': 110,'LaCrosse':135, 'Milwaukee':120},\n",
    "    'Madison': {'LaCrosse': 140, 'Milwaukee': 80, 'Rockford': 110},\n",
    "    'Milwaukee': {'Madison': 80, 'Chicago': 90, 'Rockford': 75,'Green Bay':120},\n",
    "    'Dubuque': {'Rochester': 60, 'Rockford': 85,'LaCrosse':60},\n",
    "    'Rockford': {'Dubuque': 85, 'Chicago': 85,'Madison':110},\n",
    "    'Chicago': {'Milwaukee': 90, 'Rockford': 85},\n",
    "    'Sioux Falls': {'Fargo':125, 'Rochester':200}\n",
    "}"
   ]
  },
  {
   "cell_type": "markdown",
   "metadata": {},
   "source": [
    "## DFS"
   ]
  },
  {
   "cell_type": "code",
   "execution_count": 47,
   "metadata": {},
   "outputs": [
    {
     "name": "stdout",
     "output_type": "stream",
     "text": [
      "Recorrido DFS:\n",
      "-> Visitando: Fargo\n",
      "-> Visitando: Sioux Falls\n",
      "-> Visitando: Rochester\n",
      "-> Visitando: Dubuque\n",
      "-> Visitando: LaCrosse\n",
      "-> Visitando: Minneapolis\n",
      "-> Visitando: Wausau\n",
      "-> Visitando: Green Bay\n",
      "-> Visitando: Milwaukee\n",
      "-> Visitando: Rockford\n",
      "-> Visitando: Madison\n",
      "-> Visitando: Chicago\n",
      "-> Visitando: St. Cloud\n",
      "-> Visitando: Duluth\n",
      "-> Visitando: Bemidji\n",
      "-> Visitando: Grand Forks\n",
      "-> Visitando: International Falls\n",
      "Distancia total recorrida: 1925\n"
     ]
    }
   ],
   "source": [
    "def dfs(distancias, inicio):\n",
    "    visitados = set()  # conjunto para llevar registro de los nodos visitados\n",
    "    pila = [(inicio, 0)]  # una pila para manejar el orden de visita y la distancia recorrida hasta ese nodo\n",
    "    distancia_total = 0  # contador para sumar las distancias\n",
    "\n",
    "    while pila:\n",
    "        nodo_actual, distancia = pila.pop()  # obtenemos el siguiente nodo a visitar y su distancia\n",
    "        if nodo_actual not in visitados:\n",
    "            print(f\"-> Visitando: {nodo_actual}\")\n",
    "            distancia_total += distancia  # añadimos la distancia al contador total\n",
    "            visitados.add(nodo_actual)\n",
    "\n",
    "            # añadimos todos los vecinos del nodo actual a la pila (si no han sido visitados)\n",
    "            for vecino in distancias[nodo_actual]:\n",
    "                if vecino not in visitados:\n",
    "                    pila.append((vecino, distancias[nodo_actual][vecino]))\n",
    "\n",
    "    print(\"Distancia total recorrida:\", distancia_total)\n",
    "\n",
    "print(\"Recorrido DFS:\")\n",
    "dfs(distancias, inicio)\n"
   ]
  },
  {
   "cell_type": "markdown",
   "metadata": {},
   "source": [
    "## BFS"
   ]
  },
  {
   "cell_type": "code",
   "execution_count": 48,
   "metadata": {},
   "outputs": [
    {
     "name": "stdout",
     "output_type": "stream",
     "text": [
      "Recorrido BFS:\n",
      "-> Visitando: Fargo\n",
      "-> Visitando: Grand Forks\n",
      "-> Visitando: St. Cloud\n",
      "-> Visitando: Sioux Falls\n",
      "-> Visitando: Bemidji\n",
      "-> Visitando: International Falls\n",
      "-> Visitando: Minneapolis\n",
      "-> Visitando: Rochester\n",
      "-> Visitando: Duluth\n",
      "-> Visitando: Wausau\n",
      "-> Visitando: LaCrosse\n",
      "-> Visitando: Dubuque\n",
      "-> Visitando: Green Bay\n",
      "-> Visitando: Madison\n",
      "-> Visitando: Rockford\n",
      "-> Visitando: Milwaukee\n",
      "-> Visitando: Chicago\n",
      "Distancia total recorrida: 2075\n"
     ]
    }
   ],
   "source": [
    "def bfs(distancias, inicio):\n",
    "    visitados = set()  # conjunto para llevar registro de los nodos visitados\n",
    "    cola = deque([(inicio, 0)])  # una cola para manejar el orden de visita y la distancia recorrida hasta ese nodo\n",
    "    distancia_total = 0  # contador para sumar las distancias\n",
    "\n",
    "    while cola:\n",
    "        nodo_actual, distancia = cola.popleft()  # obtenemos el siguiente nodo a visitar y su distancia\n",
    "        if nodo_actual not in visitados:\n",
    "            print(f\"-> Visitando: {nodo_actual}\")\n",
    "            distancia_total += distancia  # añadimos la distancia al contador total\n",
    "            visitados.add(nodo_actual)\n",
    "\n",
    "            # añadimos todos los vecinos del nodo actual a la cola (si no han sido visitados)\n",
    "            for vecino in distancias[nodo_actual]:\n",
    "                if vecino not in visitados:\n",
    "                    cola.append((vecino, distancias[nodo_actual][vecino]))\n",
    "\n",
    "    print(\"Distancia total recorrida:\", distancia_total)\n",
    "\n",
    "\n",
    "\n",
    "print(\"Recorrido BFS:\")\n",
    "bfs(distancias, inicio)  # Esto iniciará el recorrido desde Minneapolis\n"
   ]
  },
  {
   "cell_type": "markdown",
   "metadata": {},
   "source": [
    "# Busqueda informada"
   ]
  },
  {
   "cell_type": "markdown",
   "metadata": {},
   "source": [
    "## Best First"
   ]
  },
  {
   "cell_type": "code",
   "execution_count": 49,
   "metadata": {},
   "outputs": [],
   "source": [
    "inicio = \"Oradea\"\n",
    "objetivo = \"Neamt\"\n",
    "distancias = {\n",
    "    'Oradea': {'Zerind': 71, 'Sibiu': 151}, \n",
    "    'Zerind': {'Oradea': 71, 'Arad': 75}, \n",
    "    'Arad': {'Zerind': 75, 'Timisoara': 118, 'Sibiu': 140}, \n",
    "    'Timisoara': {'Arad': 118, 'Lugo': 111}, \n",
    "    'Lugo': {'Timisoara': 111, 'Mehadia': 70}, \n",
    "    'Mehadia': {'Lugo': 70, 'Dobreta': 75}, \n",
    "    'Dobreta': {'Mehadia': 75, 'Craiova': 120}, \n",
    "    'Craiova': {'Dobreta': 120, 'Rimnicu Vilcea': 146, 'Pitesti': 138}, \n",
    "    'Rimnicu Vilcea': {'Craiova': 146, 'Sibiu': 80, 'Pitesti': 97}, \n",
    "    'Sibiu': {'Oradea': 151, 'Arad': 140, 'Rimnicu Vilcea': 80, 'Fagaras': 99}, \n",
    "    'Fagaras': {'Sibiu': 99, 'Bucharest': 211}, \n",
    "    'Pitesti': {'Craiova': 138, 'Rimnicu Vilcea': 97, 'Bucharest': 101}, \n",
    "    'Bucharest': {'Fagaras': 211, 'Pitesti': 101, 'Giurgiu': 90, 'Urziceni': 85}, \n",
    "    'Giurgiu': {'Bucharest': 90}, \n",
    "    'Urziceni': {'Bucharest': 85, 'Hirsova': 98, 'Vaslui': 142}, \n",
    "    'Hirsova': {'Urziceni': 98, 'Eforie': 86}, \n",
    "    'Eforie': {'Hirsova': 86}, \n",
    "    'Vaslui': {'Urziceni': 142, 'Iasi': 92}, \n",
    "    'Iasi': {'Vaslui': 92, 'Neamt': 87},\n",
    "    'Neamt': {'Iasi': 87}\n",
    "    }"
   ]
  },
  {
   "cell_type": "code",
   "execution_count": 50,
   "metadata": {},
   "outputs": [
    {
     "name": "stdout",
     "output_type": "stream",
     "text": [
      "Recorrido Best First Search:\n",
      "-> Visitando: Oradea\n",
      "-> Visitando: Zerind\n",
      "-> Visitando: Arad\n",
      "-> Visitando: Timisoara\n",
      "-> Visitando: Lugo\n",
      "-> Visitando: Mehadia\n",
      "-> Visitando: Dobreta\n",
      "-> Visitando: Craiova\n",
      "-> Visitando: Pitesti\n",
      "-> Visitando: Rimnicu Vilcea\n",
      "-> Visitando: Sibiu\n",
      "-> Visitando: Fagaras\n",
      "-> Visitando: Bucharest\n",
      "-> Visitando: Urziceni\n",
      "-> Visitando: Giurgiu\n",
      "-> Visitando: Hirsova\n",
      "-> Visitando: Eforie\n",
      "-> Visitando: Sibiu\n",
      "-> Visitando: Vaslui\n",
      "-> Visitando: Iasi\n",
      "-> Visitando: Neamt\n",
      "¡Has llegado a la ciudad objetivo!\n",
      "Distancia total recorrida: 1835\n"
     ]
    }
   ],
   "source": [
    "def best_first_search(distancias, inicio, objetivo):\n",
    "    visitados = set()  # conjunto para llevar registro de los nodos visitados\n",
    "    cola_prioridad = [(0, inicio)]  # cola de prioridad para manejar el orden de exploración\n",
    "    distancia_total = 0  # contador para sumar las distancias recorridas\n",
    "\n",
    "    while cola_prioridad:\n",
    "        distancia, nodo_actual = heapq.heappop(cola_prioridad)  # obtenemos el nodo a visitar\n",
    "        print(f\"-> Visitando: {nodo_actual}\")\n",
    "\n",
    "        if nodo_actual == objetivo:\n",
    "            visitados.add(nodo_actual)\n",
    "            distancia_total += distancia  # Añadimos la distancia al contador total\n",
    "            break  # Terminamos la búsqueda una vez que alcanzamos el objetivo\n",
    "\n",
    "        if nodo_actual not in visitados:\n",
    "            visitados.add(nodo_actual)\n",
    "            distancia_total += distancia  # Añadimos la distancia al contador total\n",
    "            # Expandir el nodo actual y agregar los vecinos a la cola de prioridad\n",
    "            for vecino, distancia_vecino in distancias[nodo_actual].items():\n",
    "                if vecino not in visitados:\n",
    "                    heapq.heappush(cola_prioridad, (distancia_vecino, vecino))\n",
    "\n",
    "    if objetivo in visitados:\n",
    "        print(\"¡Has llegado a la ciudad objetivo!\")\n",
    "        print(\"Distancia total recorrida:\", distancia_total)\n",
    "    else:\n",
    "        print(\"La ciudad objetivo no se ha encontrado en el recorrido.\")\n",
    "\n",
    "print(\"Recorrido Best First Search:\")\n",
    "best_first_search(distancias, inicio, objetivo)\n",
    "\n",
    "\n"
   ]
  },
  {
   "cell_type": "markdown",
   "metadata": {},
   "source": [
    "## Hill climbing"
   ]
  },
  {
   "cell_type": "code",
   "execution_count": 51,
   "metadata": {},
   "outputs": [],
   "source": [
    "inicio = \"B\"\n",
    "objetivo = \"E\"\n",
    "distancias = {\n",
    "    'A' : {'B' : 2},\n",
    "    'B' : {'C' : 2},\n",
    "    'C' : {'D' : 2},\n",
    "    'D' : {'E' : 1, 'F' : 2},\n",
    "    'E' : {'G' : 3, 'K' : 3},\n",
    "    'F' : {'G' : 2},\n",
    "    'G' : {'H' : 2},\n",
    "    'H' : {'I' : 5},\n",
    "    'I' : {'J' : 2},\n",
    "    'J' : {'E' : 3, 'K' : 3},\n",
    "    'K' : {'A' : 2}\n",
    "\n",
    "}"
   ]
  },
  {
   "cell_type": "code",
   "execution_count": 52,
   "metadata": {},
   "outputs": [
    {
     "name": "stdout",
     "output_type": "stream",
     "text": [
      "Ruta encontrada: ['B', 'C', 'D', 'E']\n"
     ]
    }
   ],
   "source": [
    "def hill_climbing(graph, start, goal):\n",
    "    current_node = start\n",
    "    path = [current_node]\n",
    "\n",
    "    while current_node != goal:\n",
    "        neighbors = graph.get(current_node, {})\n",
    "\n",
    "        if not neighbors:\n",
    "            break\n",
    "\n",
    "        # Encuentra el vecino con la distancia más corta al objetivo\n",
    "        next_node = min(neighbors, key=lambda node: neighbors[node])\n",
    "        \n",
    "        if neighbors[next_node] >= neighbors.get(current_node, float('inf')):\n",
    "            # Estamos en un máximo local o llegamos a un punto sin salida\n",
    "            break\n",
    "        \n",
    "        current_node = next_node\n",
    "        path.append(current_node)\n",
    "\n",
    "    if current_node == goal:\n",
    "        return path\n",
    "    else:\n",
    "        return None\n",
    "\n",
    "# Ejecutar hill climbing\n",
    "ruta = hill_climbing(distancias, inicio, objetivo)\n",
    "print(\"Ruta encontrada:\", ruta)"
   ]
  },
  {
   "cell_type": "code",
   "execution_count": 53,
   "metadata": {},
   "outputs": [
    {
     "data": {
      "text/plain": [
       "[{'C': 2}, {'E': 1, 'F': 2}]"
      ]
     },
     "execution_count": 53,
     "metadata": {},
     "output_type": "execute_result"
    }
   ],
   "source": [
    "niveles = [distancias[inicio]]\n",
    "niveles.append( distancias['D'] )\n",
    "\n",
    "niveles"
   ]
  },
  {
   "cell_type": "code",
   "execution_count": 54,
   "metadata": {},
   "outputs": [
    {
     "name": "stdout",
     "output_type": "stream",
     "text": [
      "H: 1\n",
      "1\n"
     ]
    }
   ],
   "source": [
    "mi_diccionario = {'E': 3, 'F': 2, 'G': 5, 'H': 1}\n",
    "\n",
    "elemento_minimo = min(mi_diccionario.items(), key=lambda x: x[1])\n",
    "\n",
    "llave_minima, valor_minimo = elemento_minimo\n",
    "\n",
    "print(f\"{llave_minima}: {valor_minimo}\")\n",
    "print(elemento_minimo[1])\n"
   ]
  }
 ],
 "metadata": {
  "kernelspec": {
   "display_name": "Python 3",
   "language": "python",
   "name": "python3"
  },
  "language_info": {
   "codemirror_mode": {
    "name": "ipython",
    "version": 3
   },
   "file_extension": ".py",
   "mimetype": "text/x-python",
   "name": "python",
   "nbconvert_exporter": "python",
   "pygments_lexer": "ipython3",
   "version": "3.12.0"
  }
 },
 "nbformat": 4,
 "nbformat_minor": 2
}
