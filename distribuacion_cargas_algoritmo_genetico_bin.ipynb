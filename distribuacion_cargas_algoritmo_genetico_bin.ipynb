{
 "cells": [
  {
   "cell_type": "markdown",
   "metadata": {},
   "source": [
    "# Distribución de cargas simulado con algoritmo genetico con número enteros\n"
   ]
  },
  {
   "cell_type": "code",
   "execution_count": 49,
   "metadata": {},
   "outputs": [],
   "source": [
    "from algoritmo_genetico import AlgoritmoGenetico"
   ]
  },
  {
   "cell_type": "code",
   "execution_count": 50,
   "metadata": {},
   "outputs": [],
   "source": [
    "class DivisionCargasAGBin(AlgoritmoGenetico):\n",
    "    def __init__(self, ventana: list, num_procesadores: int, underload: int, overload: int, low_val=0, top_val=1, num_genes=20, num_cromosomas=50, num_generaciones=200, prob_cruce=0.8, prob_mutacion=0.05, porcentaje_elitismo=0.05):\n",
    "        super().__init__(low_val, top_val, num_cromosomas, num_genes,\n",
    "                         num_generaciones, prob_cruce, prob_mutacion, porcentaje_elitismo)\n",
    "        self.ventana = ventana\n",
    "        self.num_procesadores = num_procesadores\n",
    "        self.underload = underload\n",
    "        self.overload = overload\n",
    "        self.len_bin = len(bin(self.num_procesadores-1)[2:])\n",
    "        self.num_genes *= self.len_bin\n",
    "\n",
    "    def evaluar_fitness(self, cromosoma: list):\n",
    "        carga_por_procesador = [0] * self.num_procesadores\n",
    "\n",
    "        j = 0\n",
    "        for proceso in self.ventana:\n",
    "            list_bin = cromosoma[j:j+self.len_bin]\n",
    "            procesador = int(\"\".join(map(str, list_bin)), 2)\n",
    "            j += self.len_bin\n",
    "            carga_por_procesador[procesador] += proceso\n",
    "\n",
    "        self.carga_maxima = max(carga_por_procesador)\n",
    "        cargas_aceptadas = sum(1 for carga in carga_por_procesador if self.underload < carga < self.overload)\n",
    "        promedio_carga = sum(carga / self.carga_maxima for carga in carga_por_procesador) / self.num_procesadores\n",
    "\n",
    "        return (1.0 / self.carga_maxima) * promedio_carga * (cargas_aceptadas / self.num_procesadores)\n",
    "    \n",
    "    def best(self, poblacion: list):\n",
    "        return min(poblacion, key=self.evaluar_fitness)\n"
   ]
  },
  {
   "cell_type": "code",
   "execution_count": 51,
   "metadata": {},
   "outputs": [],
   "source": [
    "def generar_division_cargas_AGBin (n_procesos:int, n_procesadores:int, size_ventana:int, ventana:list):\n",
    "    overloaded = (n_procesos // n_procesadores) + 100\n",
    "    residuo = n_procesos % n_procesadores\n",
    "    if residuo > 0:\n",
    "        ventana.append(residuo)\n",
    "        \n",
    "    return  DivisionCargasAGBin(\n",
    "    ventana = ventana,\n",
    "    num_procesadores = n_procesadores, \n",
    "    underload = 50, overload = overloaded,\n",
    "    num_genes = size_ventana, num_cromosomas = 100)"
   ]
  },
  {
   "cell_type": "markdown",
   "metadata": {},
   "source": [
    "## Parametros\n"
   ]
  },
  {
   "cell_type": "code",
   "execution_count": 52,
   "metadata": {},
   "outputs": [],
   "source": [
    "n_procesos = 3600\n",
    "size_ventana = 54\n",
    "ventana = [n_procesos // size_ventana] * size_ventana\n",
    "top_pow = 5\n",
    "cargas_ag = {}\n",
    "maximos = {}\n",
    "poblaciones = {}"
   ]
  },
  {
   "cell_type": "markdown",
   "metadata": {},
   "source": [
    "## Implementacion"
   ]
  },
  {
   "cell_type": "code",
   "execution_count": 53,
   "metadata": {},
   "outputs": [],
   "source": [
    "for i in range(1, top_pow):\n",
    "    n_procesadores = 2 ** i\n",
    "    cargas_ag[i] = generar_division_cargas_AGBin(n_procesos = n_procesos, n_procesadores = n_procesadores, size_ventana = size_ventana, ventana = ventana)\n",
    "    poblaciones[i] = cargas_ag[i].fit()    \n",
    "    maximos[i] = cargas_ag[i].carga_maxima\n"
   ]
  },
  {
   "cell_type": "markdown",
   "metadata": {},
   "source": [
    "## Resultados"
   ]
  },
  {
   "cell_type": "code",
   "execution_count": 54,
   "metadata": {},
   "outputs": [
    {
     "name": "stdout",
     "output_type": "stream",
     "text": [
      "Distribución de cargas 2 procesadores: \n",
      "Tiempo total :  1914\n",
      "Mejor solución: [0] [0] [1] [1] [0] [1] [1] [1] [1] [1] [1] [1] [1] [1] [0] [0] [1] [0] [1] [1] [1] [1] [1] [1] [1] [1] [1] [1] [0] [0] [0] [1] [1] [1] [0] [1] [1] [0] [0] [0] [1] [0] [0] [1] [1] [1] [1] [1] [0] [0] [0] [1] [1] [0] \n",
      "Fitness:  0.00016697588126159552\n",
      "------------------------------------------------------------------------\n",
      "Distribución de cargas 4 procesadores: \n",
      "Tiempo total :  1056\n",
      "Mejor solución: [1, 1] [0, 1] [1, 1] [1, 0] [0, 0] [0, 0] [0, 0] [1, 1] [1, 1] [0, 0] [0, 0] [0, 0] [1, 0] [1, 0] [0, 0] [0, 0] [1, 1] [1, 1] [0, 0] [1, 1] [0, 1] [1, 1] [0, 0] [1, 1] [0, 0] [0, 0] [0, 0] [0, 0] [0, 0] [1, 0] [0, 1] [0, 0] [1, 1] [0, 0] [1, 0] [0, 0] [0, 0] [1, 1] [1, 0] [0, 0] [1, 0] [1, 0] [1, 0] [0, 0] [0, 0] [0, 1] [0, 0] [1, 1] [1, 0] [1, 0] [1, 0] [0, 0] [0, 0] [0, 0] \n",
      "Fitness:  0.00022693652501344812\n",
      "------------------------------------------------------------------------\n",
      "Distribución de cargas 8 procesadores: \n",
      "Tiempo total :  594\n",
      "Mejor solución: [1, 0, 1] [1, 0, 0] [0, 0, 0] [1, 0, 1] [0, 1, 1] [1, 1, 0] [1, 1, 1] [1, 1, 0] [0, 0, 0] [1, 0, 0] [0, 1, 0] [1, 1, 0] [0, 1, 1] [1, 1, 1] [1, 1, 0] [0, 0, 1] [1, 0, 1] [1, 1, 0] [1, 0, 1] [0, 1, 0] [1, 1, 0] [1, 0, 0] [1, 1, 1] [0, 0, 0] [0, 1, 0] [1, 0, 0] [1, 1, 0] [0, 0, 1] [1, 1, 0] [0, 1, 1] [0, 1, 0] [0, 0, 0] [1, 0, 0] [1, 1, 0] [1, 0, 0] [0, 0, 0] [0, 1, 1] [0, 1, 0] [0, 0, 0] [0, 0, 0] [1, 1, 0] [1, 1, 1] [1, 1, 1] [1, 1, 1] [1, 1, 1] [1, 1, 0] [0, 0, 0] [1, 1, 0] [0, 0, 1] [0, 0, 0] [0, 0, 0] [1, 1, 0] [0, 0, 0] [1, 1, 0] \n",
      "Fitness:  0.00039134972170686455\n",
      "------------------------------------------------------------------------\n",
      "Distribución de cargas 16 procesadores: \n",
      "Tiempo total :  396\n",
      "Mejor solución: [0, 1, 1, 1] [0, 1, 1, 0] [1, 1, 0, 0] [0, 0, 1, 0] [1, 1, 1, 1] [0, 1, 0, 1] [1, 1, 0, 0] [1, 1, 1, 0] [0, 0, 1, 0] [0, 0, 1, 0] [1, 0, 1, 1] [0, 1, 0, 1] [0, 0, 1, 0] [0, 1, 0, 0] [0, 0, 0, 1] [0, 0, 0, 1] [0, 0, 1, 0] [0, 1, 0, 1] [1, 1, 1, 1] [1, 1, 1, 0] [0, 0, 1, 0] [1, 1, 1, 0] [1, 1, 1, 1] [0, 0, 1, 0] [1, 0, 1, 0] [0, 0, 1, 1] [0, 0, 0, 1] [0, 0, 0, 1] [1, 1, 0, 0] [1, 0, 1, 0] [1, 1, 1, 0] [1, 1, 1, 0] [1, 1, 0, 1] [1, 1, 1, 1] [0, 1, 0, 1] [0, 0, 0, 1] [0, 0, 1, 1] [1, 0, 0, 0] [0, 1, 0, 1] [1, 1, 1, 0] [0, 1, 0, 1] [1, 0, 1, 0] [1, 1, 1, 0] [0, 0, 1, 0] [1, 1, 1, 0] [0, 0, 1, 0] [1, 1, 0, 0] [0, 0, 1, 1] [1, 1, 0, 0] [1, 1, 1, 0] [0, 0, 1, 0] [1, 0, 1, 0] [1, 1, 1, 0] [0, 0, 1, 0] \n",
      "Fitness:  0.0002377206987227648\n",
      "------------------------------------------------------------------------\n"
     ]
    }
   ],
   "source": [
    "for i in range(1, top_pow):\n",
    "    print(f\"Distribución de cargas {2 ** i} procesadores: \")\n",
    "    print(\"Tiempo total : \", cargas_ag[i].carga_maxima)\n",
    "\n",
    "    best = cargas_ag[i].best(poblaciones[i])\n",
    "    print(\"Mejor solución: \", end = \"\")\n",
    "    for j in range(0, len(best), i):\n",
    "        grupo = best[j:j+i]\n",
    "        print(grupo, end = \" \")\n",
    "        \n",
    "    print(\"\\nFitness: \", cargas_ag[i].evaluar_fitness(best))\n",
    "    print(\"------------------------------------------------------------------------\")\n",
    "\n"
   ]
  },
  {
   "cell_type": "markdown",
   "metadata": {},
   "source": [
    "## Graficas"
   ]
  },
  {
   "cell_type": "code",
   "execution_count": null,
   "metadata": {},
   "outputs": [],
   "source": []
  }
 ],
 "metadata": {
  "kernelspec": {
   "display_name": "Python 3",
   "language": "python",
   "name": "python3"
  },
  "language_info": {
   "codemirror_mode": {
    "name": "ipython",
    "version": 3
   },
   "file_extension": ".py",
   "mimetype": "text/x-python",
   "name": "python",
   "nbconvert_exporter": "python",
   "pygments_lexer": "ipython3",
   "version": "3.11.1"
  },
  "orig_nbformat": 4
 },
 "nbformat": 4,
 "nbformat_minor": 2
}
