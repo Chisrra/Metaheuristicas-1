{
 "cells": [
  {
   "cell_type": "markdown",
   "metadata": {},
   "source": [
    "---\n",
    "date: 2023-08-28\n",
    "author: Cristian Israel Donato Flores\n",
    "---\n",
    "\n",
    "# Algoritmo genetico aplicado a las funciones para maximizar y minimizar funciones"
   ]
  },
  {
   "cell_type": "code",
   "execution_count": 130,
   "metadata": {},
   "outputs": [],
   "source": [
    "import pandas as pd\n",
    "import random\n",
    "import numpy as np\n",
    "import  math"
   ]
  },
  {
   "cell_type": "markdown",
   "metadata": {},
   "source": [
    "## Parametros"
   ]
  },
  {
   "cell_type": "code",
   "execution_count": 131,
   "metadata": {},
   "outputs": [],
   "source": [
    "NUM_CROMOSOMAS = 100\n",
    "NUM_GENERACIONES = 200\n",
    "PROB_MUTACION = 0.5\n",
    "PORCENTAJE_ELITISMO = 0.1\n",
    "\n",
    "X_MAX = 20\n",
    "X_MIN = 0\n",
    "PRECISION = 0.0001\n",
    "L = round( math.log2(1 + (X_MAX - X_MIN) / PRECISION) )\n",
    "\n",
    "MAXIMO = 0.5\n"
   ]
  },
  {
   "cell_type": "markdown",
   "metadata": {},
   "source": [
    "## Métodos"
   ]
  },
  {
   "cell_type": "code",
   "execution_count": 132,
   "metadata": {},
   "outputs": [],
   "source": [
    "def crear_cromosoma():\n",
    "    return [random.randint(0, 1) for _ in range(L)]\n",
    "\n",
    "def evaluar_fitness(cromosoma:list):\n",
    "    return sum(cromosoma)\n",
    "\n",
    "def seleccion(cromosomas):\n",
    "    return random.choice(cromosomas)\n",
    "\n",
    "def cruzar(padre1:list, padre2:list):\n",
    "    punto_cruza = random.randint(1, L - 1)\n",
    "    hijo1 = padre1[:punto_cruza] + padre2[punto_cruza:]\n",
    "    hijo2 = padre2[:punto_cruza] + padre1[punto_cruza:]\n",
    "    return hijo1, hijo2\n",
    "\n",
    "def mutar(cromosoma:list):\n",
    "    for i in range(L):\n",
    "        if(random.random() > PROB_MUTACION):\n",
    "            cromosoma[i] = 1 - cromosoma[i] # Cambiamos el valor de 1 a 0 y viceversa\n",
    "\n",
    "def x(c:str):\n",
    "    return X_MIN + int(c, 2) * ( (X_MAX - X_MIN) / ( (2 ** L) - 1 ) )\n",
    "\n",
    "def f(x:float):\n",
    "    return x / (1 + x**2)\n",
    "\n",
    "def fit(score:float):\n",
    "    return abs(MAXIMO - score)"
   ]
  },
  {
   "cell_type": "markdown",
   "metadata": {},
   "source": [
    "## ONE_MAX"
   ]
  },
  {
   "cell_type": "code",
   "execution_count": 133,
   "metadata": {},
   "outputs": [
    {
     "name": "stdout",
     "output_type": "stream",
     "text": [
      "Cromosoma óptimo:  [1, 1, 1, 1, 1, 1, 1, 1, 1, 0, 1, 1, 1, 1, 1, 1, 1, 1]\n",
      "Fitness:  17\n"
     ]
    }
   ],
   "source": [
    "poblacion = [crear_cromosoma() for _ in range(NUM_CROMOSOMAS)]\n",
    "\n",
    "for generacion in range(NUM_GENERACIONES):\n",
    "    nueva_poblacion = []\n",
    "\n",
    "    num_elitismo = int(NUM_CROMOSOMAS * PORCENTAJE_ELITISMO)\n",
    "    nueva_poblacion.extend(sorted(poblacion, key=evaluar_fitness, reverse=True)[:num_elitismo])\n",
    "\n",
    "    for _ in range(NUM_CROMOSOMAS // 2):\n",
    "        padre1 = seleccion(poblacion)\n",
    "        padre2 = seleccion(poblacion)\n",
    "\n",
    "        hijo1, hijo2 = cruzar(padre1, padre2)\n",
    "\n",
    "        mutar(hijo1)\n",
    "        mutar(hijo2)\n",
    "\n",
    "        nueva_poblacion.extend([hijo1, hijo2])\n",
    "\n",
    "    poblacion = nueva_poblacion\n",
    "\n",
    "mejor_cromosoma = max(poblacion, key=evaluar_fitness)\n",
    "print(\"Cromosoma óptimo: \", mejor_cromosoma)\n",
    "print(\"Fitness: \", evaluar_fitness(mejor_cromosoma))"
   ]
  },
  {
   "cell_type": "markdown",
   "metadata": {},
   "source": [
    "## Valores de x y adaptación"
   ]
  },
  {
   "cell_type": "markdown",
   "metadata": {},
   "source": [
    "### DataFrame"
   ]
  },
  {
   "cell_type": "code",
   "execution_count": 134,
   "metadata": {},
   "outputs": [
    {
     "data": {
      "text/html": [
       "<div>\n",
       "<style scoped>\n",
       "    .dataframe tbody tr th:only-of-type {\n",
       "        vertical-align: middle;\n",
       "    }\n",
       "\n",
       "    .dataframe tbody tr th {\n",
       "        vertical-align: top;\n",
       "    }\n",
       "\n",
       "    .dataframe thead th {\n",
       "        text-align: right;\n",
       "    }\n",
       "</style>\n",
       "<table border=\"1\" class=\"dataframe\">\n",
       "  <thead>\n",
       "    <tr style=\"text-align: right;\">\n",
       "      <th></th>\n",
       "      <th>cromosoma</th>\n",
       "      <th>x</th>\n",
       "      <th>adaptacion</th>\n",
       "      <th>fitness</th>\n",
       "    </tr>\n",
       "  </thead>\n",
       "  <tbody>\n",
       "    <tr>\n",
       "      <th>0</th>\n",
       "      <td>111111111011111111</td>\n",
       "      <td>19.980469</td>\n",
       "      <td>0.049924</td>\n",
       "      <td>0.450076</td>\n",
       "    </tr>\n",
       "    <tr>\n",
       "      <th>1</th>\n",
       "      <td>111111111101111011</td>\n",
       "      <td>19.989929</td>\n",
       "      <td>0.049900</td>\n",
       "      <td>0.450100</td>\n",
       "    </tr>\n",
       "    <tr>\n",
       "      <th>2</th>\n",
       "      <td>011111111111111011</td>\n",
       "      <td>9.999657</td>\n",
       "      <td>0.099013</td>\n",
       "      <td>0.400987</td>\n",
       "    </tr>\n",
       "    <tr>\n",
       "      <th>3</th>\n",
       "      <td>111111111101111101</td>\n",
       "      <td>19.990082</td>\n",
       "      <td>0.049900</td>\n",
       "      <td>0.450100</td>\n",
       "    </tr>\n",
       "    <tr>\n",
       "      <th>4</th>\n",
       "      <td>111111111111110110</td>\n",
       "      <td>19.999313</td>\n",
       "      <td>0.049877</td>\n",
       "      <td>0.450123</td>\n",
       "    </tr>\n",
       "    <tr>\n",
       "      <th>...</th>\n",
       "      <td>...</td>\n",
       "      <td>...</td>\n",
       "      <td>...</td>\n",
       "      <td>...</td>\n",
       "    </tr>\n",
       "    <tr>\n",
       "      <th>105</th>\n",
       "      <td>010011111000000110</td>\n",
       "      <td>6.211419</td>\n",
       "      <td>0.156926</td>\n",
       "      <td>0.343074</td>\n",
       "    </tr>\n",
       "    <tr>\n",
       "      <th>106</th>\n",
       "      <td>101010101101000000</td>\n",
       "      <td>13.344777</td>\n",
       "      <td>0.074517</td>\n",
       "      <td>0.425483</td>\n",
       "    </tr>\n",
       "    <tr>\n",
       "      <th>107</th>\n",
       "      <td>110110010111010111</td>\n",
       "      <td>16.989124</td>\n",
       "      <td>0.058658</td>\n",
       "      <td>0.441342</td>\n",
       "    </tr>\n",
       "    <tr>\n",
       "      <th>108</th>\n",
       "      <td>101100010100011111</td>\n",
       "      <td>13.850074</td>\n",
       "      <td>0.071827</td>\n",
       "      <td>0.428173</td>\n",
       "    </tr>\n",
       "    <tr>\n",
       "      <th>109</th>\n",
       "      <td>111010011100011111</td>\n",
       "      <td>18.264154</td>\n",
       "      <td>0.054588</td>\n",
       "      <td>0.445412</td>\n",
       "    </tr>\n",
       "  </tbody>\n",
       "</table>\n",
       "<p>110 rows × 4 columns</p>\n",
       "</div>"
      ],
      "text/plain": [
       "              cromosoma          x  adaptacion   fitness\n",
       "0    111111111011111111  19.980469    0.049924  0.450076\n",
       "1    111111111101111011  19.989929    0.049900  0.450100\n",
       "2    011111111111111011   9.999657    0.099013  0.400987\n",
       "3    111111111101111101  19.990082    0.049900  0.450100\n",
       "4    111111111111110110  19.999313    0.049877  0.450123\n",
       "..                  ...        ...         ...       ...\n",
       "105  010011111000000110   6.211419    0.156926  0.343074\n",
       "106  101010101101000000  13.344777    0.074517  0.425483\n",
       "107  110110010111010111  16.989124    0.058658  0.441342\n",
       "108  101100010100011111  13.850074    0.071827  0.428173\n",
       "109  111010011100011111  18.264154    0.054588  0.445412\n",
       "\n",
       "[110 rows x 4 columns]"
      ]
     },
     "execution_count": 134,
     "metadata": {},
     "output_type": "execute_result"
    }
   ],
   "source": [
    "poblacion = [''.join(map(str,i)) for i in poblacion]\n",
    "data = pd.DataFrame({\"cromosoma\" : poblacion})\n",
    "data[\"x\"] = data[\"cromosoma\"].apply(x)\n",
    "data[\"adaptacion\"] = data[\"x\"].apply(f)\n",
    "data[\"fitness\"] = data[\"adaptacion\"].apply(fit)\n",
    "data"
   ]
  },
  {
   "cell_type": "markdown",
   "metadata": {},
   "source": [
    "# Resultados"
   ]
  },
  {
   "cell_type": "code",
   "execution_count": 135,
   "metadata": {},
   "outputs": [
    {
     "name": "stdout",
     "output_type": "stream",
     "text": [
      "El mejor cromosoma es:\n",
      "cromosoma     000011001111011101\n",
      "x                       1.012959\n",
      "adaptacion              0.499959\n",
      "fitness                 0.000041\n",
      "Name: 68, dtype: object\n"
     ]
    }
   ],
   "source": [
    "i_min = data[\"fitness\"].idxmin()\n",
    "print(\"El mejor cromosoma es:\")\n",
    "print(data.loc[i_min])"
   ]
  }
 ],
 "metadata": {
  "kernelspec": {
   "display_name": "Python 3",
   "language": "python",
   "name": "python3"
  },
  "language_info": {
   "codemirror_mode": {
    "name": "ipython",
    "version": 3
   },
   "file_extension": ".py",
   "mimetype": "text/x-python",
   "name": "python",
   "nbconvert_exporter": "python",
   "pygments_lexer": "ipython3",
   "version": "3.11.1"
  },
  "orig_nbformat": 4
 },
 "nbformat": 4,
 "nbformat_minor": 2
}
