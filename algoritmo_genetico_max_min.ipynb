{
 "cells": [
  {
   "cell_type": "markdown",
   "metadata": {},
   "source": [
    "---\n",
    "date: 2023-08-22\n",
    "author: Cristian Israel Donato Flores\n",
    "---\n",
    "\n",
    "# Algoritmo genetico aplicado a las funciones para maximizar y minimizar funciones"
   ]
  },
  {
   "cell_type": "code",
   "execution_count": 25,
   "metadata": {},
   "outputs": [],
   "source": [
    "import pandas as pd\n",
    "import random\n",
    "import numpy as np"
   ]
  },
  {
   "cell_type": "markdown",
   "metadata": {},
   "source": [
    "## Parametros"
   ]
  },
  {
   "cell_type": "code",
   "execution_count": 26,
   "metadata": {},
   "outputs": [],
   "source": [
    "NUM_CROMOSOMAS = 100\n",
    "NUM_GENERACIONES = 200\n",
    "PROB_MUTACION = 0.5\n",
    "PORCENTAJE_ELITISMO = 0.1\n",
    "\n",
    "X_MAX = 20\n",
    "X_MIN = 0\n",
    "PRECISION = 0.0001\n",
    "L = round( math.log2(1 + (X_MAX - X_MIN) / PRECISION) )\n"
   ]
  },
  {
   "cell_type": "markdown",
   "metadata": {},
   "source": [
    "## Métodos"
   ]
  },
  {
   "cell_type": "code",
   "execution_count": 27,
   "metadata": {},
   "outputs": [],
   "source": [
    "def crear_cromosoma():\n",
    "    return [random.randint(0, 1) for _ in range(L)]\n",
    "\n",
    "def evaluar_fitness(cromosoma:list):\n",
    "    return sum(cromosoma)\n",
    "\n",
    "def seleccion(cromosomas):\n",
    "    return random.choice(cromosomas)\n",
    "\n",
    "def cruzar(padre1:list, padre2:list):\n",
    "    punto_cruza = random.randint(1, L - 1)\n",
    "    hijo1 = padre1[:punto_cruza] + padre2[punto_cruza:]\n",
    "    hijo2 = padre2[:punto_cruza] + padre1[punto_cruza:]\n",
    "    return hijo1, hijo2\n",
    "\n",
    "def mutar(cromosoma:list):\n",
    "    for i in range(L):\n",
    "        if(random.random() > PROB_MUTACION):\n",
    "            cromosoma[i] = 1 - cromosoma[i] # Cambiamos el valor de 1 a 0 y viceversa\n",
    "\n",
    "def x(c:str):\n",
    "    return X_MIN + int(c, 2) * ( (X_MAX - X_MIN) / ( (2 ** L) - 1 ) )\n",
    "\n",
    "def f(x:float):\n",
    "    return "
   ]
  },
  {
   "cell_type": "markdown",
   "metadata": {},
   "source": [
    "## ONE_MAX"
   ]
  },
  {
   "cell_type": "code",
   "execution_count": 28,
   "metadata": {},
   "outputs": [
    {
     "name": "stdout",
     "output_type": "stream",
     "text": [
      "Cromosoma óptimo:  [0, 1, 1, 1, 1, 1, 1, 1, 1, 1, 1, 1, 1, 1, 1, 1, 1, 1]\n",
      "Fitness:  17\n"
     ]
    }
   ],
   "source": [
    "poblacion = [crear_cromosoma() for _ in range(NUM_CROMOSOMAS)]\n",
    "\n",
    "for generacion in range(NUM_GENERACIONES):\n",
    "    nueva_poblacion = []\n",
    "\n",
    "    num_elitismo = int(NUM_CROMOSOMAS * PORCENTAJE_ELITISMO)\n",
    "    nueva_poblacion.extend(sorted(poblacion, key=evaluar_fitness, reverse=True)[:num_elitismo])\n",
    "\n",
    "    for _ in range(NUM_CROMOSOMAS // 2):\n",
    "        padre1 = seleccion(poblacion)\n",
    "        padre2 = seleccion(poblacion)\n",
    "\n",
    "        hijo1, hijo2 = cruzar(padre1, padre2)\n",
    "\n",
    "        mutar(hijo1)\n",
    "        mutar(hijo2)\n",
    "\n",
    "        nueva_poblacion.extend([hijo1, hijo2])\n",
    "\n",
    "    poblacion = nueva_poblacion\n",
    "\n",
    "mejor_cromosoma = max(poblacion, key=evaluar_fitness)\n",
    "print(\"Cromosoma óptimo: \", mejor_cromosoma)\n",
    "print(\"Fitness: \", evaluar_fitness(mejor_cromosoma))"
   ]
  },
  {
   "cell_type": "markdown",
   "metadata": {},
   "source": [
    "## Valores de x y adaptación"
   ]
  },
  {
   "cell_type": "markdown",
   "metadata": {},
   "source": [
    "### DataFrame"
   ]
  },
  {
   "cell_type": "code",
   "execution_count": 33,
   "metadata": {},
   "outputs": [
    {
     "data": {
      "text/html": [
       "<div>\n",
       "<style scoped>\n",
       "    .dataframe tbody tr th:only-of-type {\n",
       "        vertical-align: middle;\n",
       "    }\n",
       "\n",
       "    .dataframe tbody tr th {\n",
       "        vertical-align: top;\n",
       "    }\n",
       "\n",
       "    .dataframe thead th {\n",
       "        text-align: right;\n",
       "    }\n",
       "</style>\n",
       "<table border=\"1\" class=\"dataframe\">\n",
       "  <thead>\n",
       "    <tr style=\"text-align: right;\">\n",
       "      <th></th>\n",
       "      <th>cromosoma</th>\n",
       "    </tr>\n",
       "  </thead>\n",
       "  <tbody>\n",
       "    <tr>\n",
       "      <th>0</th>\n",
       "      <td>011111111111111111</td>\n",
       "    </tr>\n",
       "    <tr>\n",
       "      <th>1</th>\n",
       "      <td>111111101111111111</td>\n",
       "    </tr>\n",
       "    <tr>\n",
       "      <th>2</th>\n",
       "      <td>111111111011111110</td>\n",
       "    </tr>\n",
       "    <tr>\n",
       "      <th>3</th>\n",
       "      <td>101011111111111111</td>\n",
       "    </tr>\n",
       "    <tr>\n",
       "      <th>4</th>\n",
       "      <td>101111111110111111</td>\n",
       "    </tr>\n",
       "    <tr>\n",
       "      <th>...</th>\n",
       "      <td>...</td>\n",
       "    </tr>\n",
       "    <tr>\n",
       "      <th>105</th>\n",
       "      <td>000101100010011110</td>\n",
       "    </tr>\n",
       "    <tr>\n",
       "      <th>106</th>\n",
       "      <td>001011001011000111</td>\n",
       "    </tr>\n",
       "    <tr>\n",
       "      <th>107</th>\n",
       "      <td>100000011110101100</td>\n",
       "    </tr>\n",
       "    <tr>\n",
       "      <th>108</th>\n",
       "      <td>011101110011001111</td>\n",
       "    </tr>\n",
       "    <tr>\n",
       "      <th>109</th>\n",
       "      <td>111001100110100010</td>\n",
       "    </tr>\n",
       "  </tbody>\n",
       "</table>\n",
       "<p>110 rows × 1 columns</p>\n",
       "</div>"
      ],
      "text/plain": [
       "              cromosoma\n",
       "0    011111111111111111\n",
       "1    111111101111111111\n",
       "2    111111111011111110\n",
       "3    101011111111111111\n",
       "4    101111111110111111\n",
       "..                  ...\n",
       "105  000101100010011110\n",
       "106  001011001011000111\n",
       "107  100000011110101100\n",
       "108  011101110011001111\n",
       "109  111001100110100010\n",
       "\n",
       "[110 rows x 1 columns]"
      ]
     },
     "execution_count": 33,
     "metadata": {},
     "output_type": "execute_result"
    }
   ],
   "source": [
    "poblacion = [''.join(map(str,i)) for i in poblacion]\n",
    "data = {\"cromosoma\" : poblacion}\n",
    "data = pd.DataFrame(data)\n",
    "data"
   ]
  },
  {
   "cell_type": "markdown",
   "metadata": {},
   "source": []
  }
 ],
 "metadata": {
  "kernelspec": {
   "display_name": "Python 3",
   "language": "python",
   "name": "python3"
  },
  "language_info": {
   "codemirror_mode": {
    "name": "ipython",
    "version": 3
   },
   "file_extension": ".py",
   "mimetype": "text/x-python",
   "name": "python",
   "nbconvert_exporter": "python",
   "pygments_lexer": "ipython3",
   "version": "3.11.1"
  },
  "orig_nbformat": 4
 },
 "nbformat": 4,
 "nbformat_minor": 2
}
